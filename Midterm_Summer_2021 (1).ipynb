{
 "cells": [
  {
   "cell_type": "markdown",
   "id": "1c452d56",
   "metadata": {},
   "source": [
    "# Academic Integrity Statement\n",
    "\n",
    "As a matter of Departmental policy, **we are required to give you a 0** unless you **type your name** after the following statement: \n",
    "\n",
    "> *I certify on my honor that I have neither given nor received any help, or used any non-permitted resources, while completing this evaluation.*\n",
    "\n",
    "Lakshita Vij\n",
    "\n",
    "### Partial Credit\n",
    "\n",
    "Let us give you partial credit! If you're stuck on a problem and just can't get your code to run: \n",
    "\n",
    "First, **breathe**. Then, do any or all of the following: \n",
    "    \n",
    "1. Write down everything relevant that you know about the problem, as comments where your code would go. \n",
    "2. If you have non-functioning code that demonstrates some correct ideas, indicate that and keep it (commented out). \n",
    "3. Write down pseudocode (written instructions) outlining your solution approach. \n",
    "\n",
    "In brief, even if you can't quite get your code to work, you can still **show us what you know.**"
   ]
  },
  {
   "cell_type": "markdown",
   "id": "9c87678b",
   "metadata": {},
   "source": [
    "# Part I Prime numbers: 50 pts, 10 for each part\n",
    "\n",
    "## Part A is_prime: \n",
    "Write a function called `is_prime(n)` which inputs a int and returns a bool. \n",
    "\n",
    "**Requirements:**\n",
    "\n",
    "1. Your function shoulld return True if the number is prime and return False otherwise. One is not a prime number, you might need an exta line or two in your code to make sure that your function returns False if the input is one.\n",
    "\n",
    "2. You are allowed to use the \"naive\" method of checking whether every number less than n is a divisor. You may use a more sophisticated method if you like, but you run the risk of losing points if you make a mistake.\n",
    "\n",
    "3. You should write an informative docstring for this function. In addition to the docstring, the body of your function should have at least three lines of comments in appropriate places.\n",
    "\n",
    "4. You should check that the input is a strictly positive integer. If the input is not an int or is not strictly positive, you should raise an error of the appropriate type with an informative message.\n",
    "\n",
    "5. Demonstrate your code works correctly for the following five values of n: i)  13 ii) -2 iii) 4 iv) \"banana\" v) 1\n",
    "\n",
    "\n",
    "\n"
   ]
  },
  {
   "cell_type": "code",
   "execution_count": 26,
   "id": "5b894bb1",
   "metadata": {},
   "outputs": [],
   "source": [
    "#Write your function here\n",
    "def is_prime(n):\n",
    "    \"\"\"\n",
    "    This function is created to test whether a given integer by the user is a prime number or not, and returns a boolean type\n",
    "    statement, i.e True or False to indicate that. \n",
    "    Prime numbers are numbers that are greater than 1 and are not divisble by anything but themselves and 1\n",
    "    n stands for the integer that is inputted\n",
    "    \"\"\"\n",
    "    \n",
    "    #checks for type of the input value, if it is not an integer, raises a type error, informing the user that the wrong type of \n",
    "    #value is inputted\n",
    "    if type(n)!=int:                                              \n",
    "        raise TypeError(\"Sorry, only integers are allowed\")\n",
    "        \n",
    "        #checks if the number is negative, if it is, informs the user through a value error \n",
    "    if n<0:\n",
    "        raise ValueError(\"Sorry, only strictly positive values are allowed\")\n",
    "        \n",
    "        #Since 1 is an exception case to the general prime rule, specifies that if 1 is ever input, return false \n",
    "        #as it is not a prime number \n",
    "    if (n==1):\n",
    "            return False\n",
    "        \n",
    "        #Checks for the prime numbers by starting at 2, (Since every number is divisible by 1 and that is not the prime condition)\n",
    "        #And goes up till the actual number to check if the specified number is divisible by anything in between\n",
    "        # If it is not, then it is a prime number, and the function will return true \n",
    "        #If it is, then its not a prime number, and the function will return false \n",
    "    for i in range(2,n):\n",
    "         if((n%i)==0):\n",
    "            return False\n",
    "            break\n",
    "    else:\n",
    "        return True\n",
    "    "
   ]
  },
  {
   "cell_type": "code",
   "execution_count": 27,
   "id": "ca712d20",
   "metadata": {},
   "outputs": [
    {
     "data": {
      "text/plain": [
       "True"
      ]
     },
     "execution_count": 27,
     "metadata": {},
     "output_type": "execute_result"
    }
   ],
   "source": [
    "is_prime(13)"
   ]
  },
  {
   "cell_type": "code",
   "execution_count": 28,
   "id": "c2cb72c5",
   "metadata": {
    "scrolled": true
   },
   "outputs": [
    {
     "ename": "ValueError",
     "evalue": "Sorry, only strictly positive values are allowed",
     "output_type": "error",
     "traceback": [
      "\u001b[0;31m---------------------------------------------------------------------------\u001b[0m",
      "\u001b[0;31mValueError\u001b[0m                                Traceback (most recent call last)",
      "\u001b[0;32m<ipython-input-28-10c6456d79a9>\u001b[0m in \u001b[0;36m<module>\u001b[0;34m\u001b[0m\n\u001b[1;32m      1\u001b[0m \u001b[0;31m#test 2\u001b[0m\u001b[0;34m\u001b[0m\u001b[0;34m\u001b[0m\u001b[0;34m\u001b[0m\u001b[0m\n\u001b[0;32m----> 2\u001b[0;31m \u001b[0mis_prime\u001b[0m\u001b[0;34m(\u001b[0m\u001b[0;34m-\u001b[0m\u001b[0;36m2\u001b[0m\u001b[0;34m)\u001b[0m\u001b[0;34m\u001b[0m\u001b[0;34m\u001b[0m\u001b[0m\n\u001b[0m",
      "\u001b[0;32m<ipython-input-26-0996be9ec85c>\u001b[0m in \u001b[0;36mis_prime\u001b[0;34m(n)\u001b[0m\n\u001b[1;32m     15\u001b[0m         \u001b[0;31m#checks if the number is negative, if it is, informs the user through a value error\u001b[0m\u001b[0;34m\u001b[0m\u001b[0;34m\u001b[0m\u001b[0;34m\u001b[0m\u001b[0m\n\u001b[1;32m     16\u001b[0m     \u001b[0;32mif\u001b[0m \u001b[0mn\u001b[0m\u001b[0;34m<\u001b[0m\u001b[0;36m0\u001b[0m\u001b[0;34m:\u001b[0m\u001b[0;34m\u001b[0m\u001b[0;34m\u001b[0m\u001b[0m\n\u001b[0;32m---> 17\u001b[0;31m         \u001b[0;32mraise\u001b[0m \u001b[0mValueError\u001b[0m\u001b[0;34m(\u001b[0m\u001b[0;34m\"Sorry, only strictly positive values are allowed\"\u001b[0m\u001b[0;34m)\u001b[0m\u001b[0;34m\u001b[0m\u001b[0;34m\u001b[0m\u001b[0m\n\u001b[0m\u001b[1;32m     18\u001b[0m \u001b[0;34m\u001b[0m\u001b[0m\n\u001b[1;32m     19\u001b[0m         \u001b[0;31m#Since 1 is an exception case to the general prime rule, specifies that if 1 is ever input, return false\u001b[0m\u001b[0;34m\u001b[0m\u001b[0;34m\u001b[0m\u001b[0;34m\u001b[0m\u001b[0m\n",
      "\u001b[0;31mValueError\u001b[0m: Sorry, only strictly positive values are allowed"
     ]
    }
   ],
   "source": [
    "#test 2\n",
    "is_prime(-2)"
   ]
  },
  {
   "cell_type": "code",
   "execution_count": 29,
   "id": "d3d447af",
   "metadata": {},
   "outputs": [
    {
     "data": {
      "text/plain": [
       "False"
      ]
     },
     "execution_count": 29,
     "metadata": {},
     "output_type": "execute_result"
    }
   ],
   "source": [
    "#test 3\n",
    "is_prime(4)"
   ]
  },
  {
   "cell_type": "code",
   "execution_count": 30,
   "id": "cbf74a5a",
   "metadata": {},
   "outputs": [
    {
     "ename": "TypeError",
     "evalue": "Sorry, only integers are allowed",
     "output_type": "error",
     "traceback": [
      "\u001b[0;31m---------------------------------------------------------------------------\u001b[0m",
      "\u001b[0;31mTypeError\u001b[0m                                 Traceback (most recent call last)",
      "\u001b[0;32m<ipython-input-30-88357c626d6d>\u001b[0m in \u001b[0;36m<module>\u001b[0;34m\u001b[0m\n\u001b[1;32m      1\u001b[0m \u001b[0;31m#test 4\u001b[0m\u001b[0;34m\u001b[0m\u001b[0;34m\u001b[0m\u001b[0;34m\u001b[0m\u001b[0m\n\u001b[0;32m----> 2\u001b[0;31m \u001b[0mis_prime\u001b[0m\u001b[0;34m(\u001b[0m\u001b[0;34m\"banana\"\u001b[0m\u001b[0;34m)\u001b[0m\u001b[0;34m\u001b[0m\u001b[0;34m\u001b[0m\u001b[0m\n\u001b[0m",
      "\u001b[0;32m<ipython-input-26-0996be9ec85c>\u001b[0m in \u001b[0;36mis_prime\u001b[0;34m(n)\u001b[0m\n\u001b[1;32m     11\u001b[0m     \u001b[0;31m#value is inputted\u001b[0m\u001b[0;34m\u001b[0m\u001b[0;34m\u001b[0m\u001b[0;34m\u001b[0m\u001b[0m\n\u001b[1;32m     12\u001b[0m     \u001b[0;32mif\u001b[0m \u001b[0mtype\u001b[0m\u001b[0;34m(\u001b[0m\u001b[0mn\u001b[0m\u001b[0;34m)\u001b[0m\u001b[0;34m!=\u001b[0m\u001b[0mint\u001b[0m\u001b[0;34m:\u001b[0m\u001b[0;34m\u001b[0m\u001b[0;34m\u001b[0m\u001b[0m\n\u001b[0;32m---> 13\u001b[0;31m         \u001b[0;32mraise\u001b[0m \u001b[0mTypeError\u001b[0m\u001b[0;34m(\u001b[0m\u001b[0;34m\"Sorry, only integers are allowed\"\u001b[0m\u001b[0;34m)\u001b[0m\u001b[0;34m\u001b[0m\u001b[0;34m\u001b[0m\u001b[0m\n\u001b[0m\u001b[1;32m     14\u001b[0m \u001b[0;34m\u001b[0m\u001b[0m\n\u001b[1;32m     15\u001b[0m         \u001b[0;31m#checks if the number is negative, if it is, informs the user through a value error\u001b[0m\u001b[0;34m\u001b[0m\u001b[0;34m\u001b[0m\u001b[0;34m\u001b[0m\u001b[0m\n",
      "\u001b[0;31mTypeError\u001b[0m: Sorry, only integers are allowed"
     ]
    }
   ],
   "source": [
    "#test 4\n",
    "is_prime(\"banana\")"
   ]
  },
  {
   "cell_type": "code",
   "execution_count": 31,
   "id": "48ab0089",
   "metadata": {},
   "outputs": [
    {
     "data": {
      "text/plain": [
       "False"
      ]
     },
     "execution_count": 31,
     "metadata": {},
     "output_type": "execute_result"
    }
   ],
   "source": [
    "#test 5\n",
    "is_prime(1)"
   ]
  },
  {
   "cell_type": "markdown",
   "id": "87352a3e",
   "metadata": {},
   "source": [
    "## Part B is_square_free:\n",
    "\n",
    "A positive integer is called \"square free\" if it is not divisible by any perfect square. For example, 15 is square free, but 12 is not (because it is divisible by 4). Write a function called `is_square_free(n)` that checks if a number is square free. Your solution might be quite similar to your is_prime function. \n",
    "\n",
    "1. For this part, you are NOT required to do any type checking or write any commments. You may assume the user enters an integer which is greater than or equal to 2.\n",
    "\n",
    "2. Demonstrate that your function works correctly for the following values of n: i) 12 and ii) 15."
   ]
  },
  {
   "cell_type": "code",
   "execution_count": 67,
   "id": "9bd54a20",
   "metadata": {},
   "outputs": [],
   "source": [
    "#write your function here\n",
    "def is_square_free(n):\n",
    "    for i in range(2,n):\n",
    "        if n%(i**2)==0:\n",
    "            return False\n",
    "    return True"
   ]
  },
  {
   "cell_type": "code",
   "execution_count": 68,
   "id": "b8810204",
   "metadata": {},
   "outputs": [
    {
     "data": {
      "text/plain": [
       "False"
      ]
     },
     "execution_count": 68,
     "metadata": {},
     "output_type": "execute_result"
    }
   ],
   "source": [
    "#test 1\n",
    "is_square_free(12)"
   ]
  },
  {
   "cell_type": "code",
   "execution_count": 69,
   "id": "72b90869",
   "metadata": {},
   "outputs": [
    {
     "data": {
      "text/plain": [
       "True"
      ]
     },
     "execution_count": 69,
     "metadata": {},
     "output_type": "execute_result"
    }
   ],
   "source": [
    "#test 2\n",
    "is_square_free(15)"
   ]
  },
  {
   "cell_type": "markdown",
   "id": "4a76e9af",
   "metadata": {},
   "source": [
    "## Part C smallest_prime_factor:\n",
    "\n",
    "Write a function called `smallest_prime_factor(n)` which returns the smallest prime number which divides the input. If the input is prime, the your function should return the input, for example smallest_prime_factor(13) should return 13.\n",
    "\n",
    "1. For this part, you are NOT required to do any type checking or write any commments. You may assume the user enters a an integer which is greater than or equal to 2.\n",
    "\n",
    "2. Demonstrate that your function works correctly for the following values of n: i) 12 and ii) 15 iii) 17\n"
   ]
  },
  {
   "cell_type": "code",
   "execution_count": 70,
   "id": "e8c95b5c",
   "metadata": {},
   "outputs": [],
   "source": [
    "#write your function here\n",
    "def smallest_prime_factor(n):\n",
    "    factors=[]\n",
    "    for i in range(2,n+1):\n",
    "        if n%i==0:\n",
    "            factors.append(i)\n",
    "    return(min(factors))\n",
    "\n",
    "            \n",
    "        \n",
    "        "
   ]
  },
  {
   "cell_type": "code",
   "execution_count": 71,
   "id": "b39f4b37",
   "metadata": {},
   "outputs": [
    {
     "data": {
      "text/plain": [
       "2"
      ]
     },
     "execution_count": 71,
     "metadata": {},
     "output_type": "execute_result"
    }
   ],
   "source": [
    "#test 1\n",
    "smallest_prime_factor(12)"
   ]
  },
  {
   "cell_type": "code",
   "execution_count": 72,
   "id": "2db6c4b9",
   "metadata": {},
   "outputs": [
    {
     "data": {
      "text/plain": [
       "3"
      ]
     },
     "execution_count": 72,
     "metadata": {},
     "output_type": "execute_result"
    }
   ],
   "source": [
    "#test 2\n",
    "smallest_prime_factor(15)"
   ]
  },
  {
   "cell_type": "code",
   "execution_count": 73,
   "id": "8ffea162",
   "metadata": {},
   "outputs": [
    {
     "data": {
      "text/plain": [
       "17"
      ]
     },
     "execution_count": 73,
     "metadata": {},
     "output_type": "execute_result"
    }
   ],
   "source": [
    "#test 3\n",
    "smallest_prime_factor(17)"
   ]
  },
  {
   "cell_type": "markdown",
   "id": "c04d638e",
   "metadata": {},
   "source": [
    "## Part  D Create a dictionary:\n",
    "\n",
    "Use your smallest_prime_factor function to create a dictionary `D` where the keys are the positive numbers $2,3,4,\\ldots,99,100$ and the values are the smallest prime factors of the keys. \n",
    "\n",
    "1. You are not required to write comments for this part.\n",
    "\n",
    "2. You are not require to write a function for this part.\n",
    "\n",
    "3. Use at most three lines of code to create your dictionary D. (It is possible to do it in a single line.)\n",
    "\n",
    "4. Display the outputs of D[15], D[12], and D[17] on a single line.\n"
   ]
  },
  {
   "cell_type": "code",
   "execution_count": 74,
   "id": "00b25b11",
   "metadata": {},
   "outputs": [
    {
     "data": {
      "text/plain": [
       "{2: 2,\n",
       " 3: 3,\n",
       " 4: 2,\n",
       " 5: 5,\n",
       " 6: 2,\n",
       " 7: 7,\n",
       " 8: 2,\n",
       " 9: 3,\n",
       " 10: 2,\n",
       " 11: 11,\n",
       " 12: 2,\n",
       " 13: 13,\n",
       " 14: 2,\n",
       " 15: 3,\n",
       " 16: 2,\n",
       " 17: 17,\n",
       " 18: 2,\n",
       " 19: 19,\n",
       " 20: 2,\n",
       " 21: 3,\n",
       " 22: 2,\n",
       " 23: 23,\n",
       " 24: 2,\n",
       " 25: 5,\n",
       " 26: 2,\n",
       " 27: 3,\n",
       " 28: 2,\n",
       " 29: 29,\n",
       " 30: 2,\n",
       " 31: 31,\n",
       " 32: 2,\n",
       " 33: 3,\n",
       " 34: 2,\n",
       " 35: 5,\n",
       " 36: 2,\n",
       " 37: 37,\n",
       " 38: 2,\n",
       " 39: 3,\n",
       " 40: 2,\n",
       " 41: 41,\n",
       " 42: 2,\n",
       " 43: 43,\n",
       " 44: 2,\n",
       " 45: 3,\n",
       " 46: 2,\n",
       " 47: 47,\n",
       " 48: 2,\n",
       " 49: 7,\n",
       " 50: 2,\n",
       " 51: 3,\n",
       " 52: 2,\n",
       " 53: 53,\n",
       " 54: 2,\n",
       " 55: 5,\n",
       " 56: 2,\n",
       " 57: 3,\n",
       " 58: 2,\n",
       " 59: 59,\n",
       " 60: 2,\n",
       " 61: 61,\n",
       " 62: 2,\n",
       " 63: 3,\n",
       " 64: 2,\n",
       " 65: 5,\n",
       " 66: 2,\n",
       " 67: 67,\n",
       " 68: 2,\n",
       " 69: 3,\n",
       " 70: 2,\n",
       " 71: 71,\n",
       " 72: 2,\n",
       " 73: 73,\n",
       " 74: 2,\n",
       " 75: 3,\n",
       " 76: 2,\n",
       " 77: 7,\n",
       " 78: 2,\n",
       " 79: 79,\n",
       " 80: 2,\n",
       " 81: 3,\n",
       " 82: 2,\n",
       " 83: 83,\n",
       " 84: 2,\n",
       " 85: 5,\n",
       " 86: 2,\n",
       " 87: 3,\n",
       " 88: 2,\n",
       " 89: 89,\n",
       " 90: 2,\n",
       " 91: 7,\n",
       " 92: 2,\n",
       " 93: 3,\n",
       " 94: 2,\n",
       " 95: 5,\n",
       " 96: 2,\n",
       " 97: 97,\n",
       " 98: 2,\n",
       " 99: 3,\n",
       " 100: 2}"
      ]
     },
     "execution_count": 74,
     "metadata": {},
     "output_type": "execute_result"
    }
   ],
   "source": [
    "D={i:smallest_prime_factor(i) for i in range(2,101)}\n",
    "D"
   ]
  },
  {
   "cell_type": "code",
   "execution_count": 75,
   "id": "8cc22bda",
   "metadata": {},
   "outputs": [
    {
     "data": {
      "text/plain": [
       "(3, 17, 2)"
      ]
     },
     "execution_count": 75,
     "metadata": {},
     "output_type": "execute_result"
    }
   ],
   "source": [
    "D[15],D[17], D[12]"
   ]
  },
  {
   "cell_type": "markdown",
   "id": "4713756a",
   "metadata": {},
   "source": [
    "## Part E: How many of primes and square free numbers?\n",
    "\n",
    "\n",
    "Create two lists called `primes` and `square_frees` that contain all the prime numbers and all the square free numbers between 2 and 1000. You are not required to write comments for this part. For full credit, you should reuse functions from earlier as appropriate."
   ]
  },
  {
   "cell_type": "code",
   "execution_count": 76,
   "id": "6f9b59fa",
   "metadata": {},
   "outputs": [],
   "source": [
    "#create your lists here\n",
    "square_frees=[]\n",
    "primes=[]\n",
    "for i in range(2,1001):\n",
    "    if is_prime(i)==True:\n",
    "        primes.append(i)\n",
    "    if is_square_free(i)==True:\n",
    "        square_frees.append(i)\n"
   ]
  },
  {
   "cell_type": "markdown",
   "id": "8ac994ce",
   "metadata": {},
   "source": [
    "Output the length of both lists."
   ]
  },
  {
   "cell_type": "code",
   "execution_count": 77,
   "id": "94fdea98",
   "metadata": {},
   "outputs": [
    {
     "data": {
      "text/plain": [
       "(168, 607)"
      ]
     },
     "execution_count": 77,
     "metadata": {},
     "output_type": "execute_result"
    }
   ],
   "source": [
    "#output the lengths here\n",
    "len(primes), len(square_frees)\n"
   ]
  },
  {
   "cell_type": "markdown",
   "id": "ca247c44",
   "metadata": {},
   "source": [
    "Use set functions to determine the number of square free number between  2 and 1000 which are not prime. **Solutions which do not use set functions will receive no credit.** For full credit, your solution should only be a single line."
   ]
  },
  {
   "cell_type": "code",
   "execution_count": 78,
   "id": "9b60a2d5",
   "metadata": {},
   "outputs": [
    {
     "data": {
      "text/plain": [
       "439"
      ]
     },
     "execution_count": 78,
     "metadata": {},
     "output_type": "execute_result"
    }
   ],
   "source": [
    "#your code here\n",
    "len(set(square_frees).difference(set(primes))) #Changing the list to be sets, and then using the sets property of \n",
    "                                                #of difference to find values in square frees but not in primes"
   ]
  },
  {
   "cell_type": "markdown",
   "id": "4efbe296",
   "metadata": {},
   "source": [
    "# Part 2 Object Oriented Programming: 25 points (15 for part A 10 for part B)\n",
    "\n",
    "## Part A Employee Class:\n",
    "\n",
    "Create an class called `Employee`. This class should have one class variable, `company`, which is set to \"Dunder Mifflin.\" It should have three instance variables `name`, `level`, and `role`, and a `str method`. The str method should be a single line long and should cause print(Pam) to display in the format below (note the spaces between lines).\n",
    "\n",
    "Name: Pam Beesley\n",
    "\n",
    "Role: Receptionist\n",
    "\n",
    "Level: 3"
   ]
  },
  {
   "cell_type": "code",
   "execution_count": 79,
   "id": "8bdd7a68",
   "metadata": {},
   "outputs": [],
   "source": [
    "#define your class here\n",
    "class Employee:\n",
    "    \"\"\"\n",
    "    This class takes in three instance variables, the name, level and role of an employee of the company Dunder Mifflin,which is a common \n",
    "    class variable here, and returns the employee's name, role and level \n",
    "    \"\"\"\n",
    "    company=\"Dunder Mifflin\"\n",
    "    def __init__(self,name,level,role):  #takes in name, level and role\n",
    "        self.name=name\n",
    "        self.level= level\n",
    "        self.role=role\n",
    "    def __str__(self): #prints out the name, level and role as a string \n",
    "        return( \"Name:\"+ self.name+ '\\n' + '\\n' \"Role:\" + self.role+ '\\n' + '\\n'\"Level:\"+ str(self.level))"
   ]
  },
  {
   "cell_type": "markdown",
   "id": "debd5c34",
   "metadata": {},
   "source": [
    "After creating the Employee class, run the code below."
   ]
  },
  {
   "cell_type": "code",
   "execution_count": 80,
   "id": "b59c8e69",
   "metadata": {},
   "outputs": [
    {
     "name": "stdout",
     "output_type": "stream",
     "text": [
      "Name:Pam Beesley\n",
      "\n",
      "Role:Receptionist\n",
      "\n",
      "Level:3\n"
     ]
    }
   ],
   "source": [
    "Pam=Employee(\"Pam Beesley\", 3, \"Receptionist\")\n",
    "print(Pam)"
   ]
  },
  {
   "cell_type": "markdown",
   "id": "3450b899",
   "metadata": {},
   "source": [
    "## Part B Manager:\n",
    "\n",
    "Create a class called `Manager`, which inherits from the Employee class. The Manager class should have an additional function `promote` which allows the Manager to promote an employee (i.e. to increase their level) by a given amount. Give the `amount` variable a default value of 1."
   ]
  },
  {
   "cell_type": "code",
   "execution_count": 81,
   "id": "ef2f40d9",
   "metadata": {},
   "outputs": [],
   "source": [
    "#write your class here\n",
    "class Manager(Employee):\n",
    "    \"\"\"\n",
    "    This is a child class of the Employee class, meaning it inherits its functioning from the Employee class.\n",
    "    On top of that, the Manager class has an additional function, allowing the manager to promote a chosen employee, referred \n",
    "    to here as other by a particular amount, which is set as a default to 1\n",
    "    \"\"\"\n",
    "    def promote(self, other, amount=1):\n",
    "        other.level += amount #increases the level of the employee by the given amount \n",
    "        return other.level\n",
    "        "
   ]
  },
  {
   "cell_type": "markdown",
   "id": "6dd7e9ab",
   "metadata": {},
   "source": [
    "Run the code below after creating the manager class."
   ]
  },
  {
   "cell_type": "code",
   "execution_count": 82,
   "id": "6a647be2",
   "metadata": {},
   "outputs": [
    {
     "name": "stdout",
     "output_type": "stream",
     "text": [
      "Name:Michael Scott\n",
      "\n",
      "Role:Regional Manager\n",
      "\n",
      "Level:10\n"
     ]
    }
   ],
   "source": [
    "Michael = Manager(\"Michael Scott\",10,\"Regional Manager\")\n",
    "print(Michael)"
   ]
  },
  {
   "cell_type": "markdown",
   "id": "18761d16",
   "metadata": {},
   "source": [
    "Use the Michael's promote method to promote Pam to level 4 and print print Pam again."
   ]
  },
  {
   "cell_type": "code",
   "execution_count": 83,
   "id": "0d4596f9",
   "metadata": {},
   "outputs": [
    {
     "data": {
      "text/plain": [
       "4"
      ]
     },
     "execution_count": 83,
     "metadata": {},
     "output_type": "execute_result"
    }
   ],
   "source": [
    "#your code here\n",
    "Michael.promote(Pam)"
   ]
  },
  {
   "cell_type": "code",
   "execution_count": 84,
   "id": "c8e49d6a",
   "metadata": {},
   "outputs": [
    {
     "name": "stdout",
     "output_type": "stream",
     "text": [
      "Name:Pam Beesley\n",
      "\n",
      "Role:Receptionist\n",
      "\n",
      "Level:4\n"
     ]
    }
   ],
   "source": [
    "#your code here\n",
    "print(Pam)"
   ]
  },
  {
   "cell_type": "markdown",
   "id": "9aaeefd1",
   "metadata": {},
   "source": [
    "# Part 3 Cosine Similarity: 25 points \n",
    "The dot product of two vectors $\\mathbf{x}=(x[0],\\ldots,x[N-1])$ and $\\mathbf{y}=(y[0],\\ldots,y[N-1])$ of length $N$ is given by \n",
    "\\begin{equation*}\n",
    "\\mathbf{x}\\cdot\\mathbf{y}=\\sum_{i=1}^{N-1} x[i]y[i].\n",
    "\\end{equation*}\n",
    "\n",
    "Write a function dot simulates the dot product. This function should input two numpy arrays $\\mathbf{x}$ and $\\mathbf{y}$. If the arrays are not the same length, it should raise a Value error, but you may otherwise assume valid input (i.e. you can assume that both $\\mathbf{x}$ and $\\mathbf{y}$ are numpy arrays). You do not have to write comments or docstrings for this problem. For full credit, your funciton should be four lines of code or less. (You are not allowed to use the np.dot function for this problem.)"
   ]
  },
  {
   "cell_type": "code",
   "execution_count": 85,
   "id": "3ae9358f",
   "metadata": {},
   "outputs": [],
   "source": [
    "#your code here\n",
    "import numpy as np\n",
    "def dot(x,y):\n",
    "    \"\"\"\n",
    "    This function's purpose is to calculate the dot product of two given arrays which will be user-inputted\n",
    "    If the arrays are not of the same length, the function will raise a value error and otherwise, would \n",
    "    multiply each value in the two arrays to its corresponding value in the other array, tabulate it in a list,\n",
    "    and then sum up all the values in the list, returning this sum \n",
    "    \"\"\"\n",
    "    multiply=[]\n",
    "    if len(x)!=len(y): #error if not the same length of arrays \n",
    "        raise ValueError(\"The arrays are not of the same length, multiplication is not possible\")\n",
    "    for i in range(0,len(x)): #since they are the same length, it is applicable for the length of the array x or y\n",
    "        ans=x[i]*y[i]  #multiplying each value in x to its corresponding value in y \n",
    "        multiply.append(ans) # adding each of these values to the list \n",
    "    return sum(multiply) #summing up the list to get the final dot product "
   ]
  },
  {
   "cell_type": "markdown",
   "id": "62009821",
   "metadata": {},
   "source": [
    "Run the code below to test your function"
   ]
  },
  {
   "cell_type": "code",
   "execution_count": 86,
   "id": "89783b8a",
   "metadata": {},
   "outputs": [
    {
     "data": {
      "text/plain": [
       "12"
      ]
     },
     "execution_count": 86,
     "metadata": {},
     "output_type": "execute_result"
    }
   ],
   "source": [
    "x=np.array([1,2,3])\n",
    "y=np.array([-1,2,3])\n",
    "dot(x,y)"
   ]
  },
  {
   "cell_type": "markdown",
   "id": "2d66e9c4",
   "metadata": {},
   "source": [
    "One way of measuring how similar to vectors is the `cosine similarity` formula (don't worry about the name) which is given by\n",
    "\\begin{equation*}\n",
    "\\text{similarity}(\\mathbf{x},\\mathbf{y})=\\frac{\\mathbf{x}\\cdot\\mathbf{y}}{\\|\\mathbf{x}\\|\\|\\mathbf{y}\\|}\n",
    "\\end{equation*}\n",
    "where $\\|\\mathbf{x}\\|=\\sqrt{\\sum_{i=1}^N |x_i|^2}$ is the  norm or magnitude of the vector $\\mathbf{x}$. First write a function called norm that computes $\\|\\mathbf{x}\\|$, then write a function called `similarity` based on this formula. For full credit, you similarity function should call your both your dot function and your norm function.  You do not need to worry about type checking or comments for this problem. For full credit your each of your functions should be at most two lines. You are not allowed to use np.dot, np.linalg.norm, or other similar functions for this problem.  "
   ]
  },
  {
   "cell_type": "code",
   "execution_count": 87,
   "id": "3335f704",
   "metadata": {},
   "outputs": [],
   "source": [
    "#write your functions here\n",
    "import math #using sqrt so need math \n",
    "def norm(x):\n",
    "    \"\"\"\n",
    "    This function calculates the norm, and it does so by calculating the absolute of the square of each value in x\n",
    "    then adding them up, and finally, taking the sum's square root and returning that answer\n",
    "    \"\"\"\n",
    "    ans=[]\n",
    "    for i in range(0,(len(x)+1)):\n",
    "        ans.append(abs(i**2))\n",
    "        summation=sum(ans)\n",
    "        final=math.sqrt(summation)\n",
    "    return final\n",
    "def similarity(x,y):\n",
    "    \"\"\"\n",
    "    This function calculates the cosine similarity by utilizing the dot and norm functions.\n",
    "    \"\"\"\n",
    "    simi=dot(x,y)/((norm(x)*norm(y)))\n",
    "    return simi"
   ]
  },
  {
   "cell_type": "markdown",
   "id": "fb6a576b",
   "metadata": {},
   "source": [
    "Run the code below to test your function"
   ]
  },
  {
   "cell_type": "code",
   "execution_count": 88,
   "id": "cf968ac8",
   "metadata": {},
   "outputs": [
    {
     "data": {
      "text/plain": [
       "0.8571428571428571"
      ]
     },
     "execution_count": 88,
     "metadata": {},
     "output_type": "execute_result"
    }
   ],
   "source": [
    "similarity(x,y)"
   ]
  }
 ],
 "metadata": {
  "kernelspec": {
   "display_name": "Python 3",
   "language": "python",
   "name": "python3"
  },
  "language_info": {
   "codemirror_mode": {
    "name": "ipython",
    "version": 3
   },
   "file_extension": ".py",
   "mimetype": "text/x-python",
   "name": "python",
   "nbconvert_exporter": "python",
   "pygments_lexer": "ipython3",
   "version": "3.8.8"
  }
 },
 "nbformat": 4,
 "nbformat_minor": 5
}
